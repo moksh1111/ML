{
 "cells": [
  {
   "cell_type": "code",
   "execution_count": 75,
   "id": "63a046db",
   "metadata": {},
   "outputs": [],
   "source": [
    "import pandas as pd\n",
    "import numpy as np\n",
    "import seaborn as sns\n",
    "import matplotlib.pyplot as plt\n",
    "%matplotlib inline"
   ]
  },
  {
   "cell_type": "code",
   "execution_count": 76,
   "id": "8ee0fda4",
   "metadata": {},
   "outputs": [],
   "source": [
    "df=pd.read_csv('nifty_500.csv')"
   ]
  },
  {
   "cell_type": "code",
   "execution_count": 77,
   "id": "fb25fc2c",
   "metadata": {},
   "outputs": [
    {
     "data": {
      "text/html": [
       "<div>\n",
       "<style scoped>\n",
       "    .dataframe tbody tr th:only-of-type {\n",
       "        vertical-align: middle;\n",
       "    }\n",
       "\n",
       "    .dataframe tbody tr th {\n",
       "        vertical-align: top;\n",
       "    }\n",
       "\n",
       "    .dataframe thead th {\n",
       "        text-align: right;\n",
       "    }\n",
       "</style>\n",
       "<table border=\"1\" class=\"dataframe\">\n",
       "  <thead>\n",
       "    <tr style=\"text-align: right;\">\n",
       "      <th></th>\n",
       "      <th>Company Name</th>\n",
       "      <th>Symbol</th>\n",
       "      <th>Industry</th>\n",
       "      <th>Series</th>\n",
       "      <th>Open</th>\n",
       "      <th>High</th>\n",
       "      <th>Low</th>\n",
       "      <th>Previous Close</th>\n",
       "      <th>Last Traded Price</th>\n",
       "      <th>Change</th>\n",
       "      <th>Percentage Change</th>\n",
       "      <th>Share Volume</th>\n",
       "      <th>Value (Indian Rupee)</th>\n",
       "      <th>52 Week High</th>\n",
       "      <th>52 Week Low</th>\n",
       "      <th>365 Day Percentage Change</th>\n",
       "      <th>30 Day Percentage Change</th>\n",
       "    </tr>\n",
       "  </thead>\n",
       "  <tbody>\n",
       "    <tr>\n",
       "      <th>0</th>\n",
       "      <td>3M India Ltd.</td>\n",
       "      <td>3MINDIA</td>\n",
       "      <td>Diversified</td>\n",
       "      <td>EQ</td>\n",
       "      <td>21950.00</td>\n",
       "      <td>21999.00</td>\n",
       "      <td>21126.05</td>\n",
       "      <td>21854.05</td>\n",
       "      <td>21575.00</td>\n",
       "      <td>-279.05</td>\n",
       "      <td>-1.28</td>\n",
       "      <td>4159</td>\n",
       "      <td>8.965357e+07</td>\n",
       "      <td>27800.00</td>\n",
       "      <td>17273.00</td>\n",
       "      <td>-10.18</td>\n",
       "      <td>8.22</td>\n",
       "    </tr>\n",
       "    <tr>\n",
       "      <th>1</th>\n",
       "      <td>Aarti Drugs Ltd.</td>\n",
       "      <td>AARTIDRUGS</td>\n",
       "      <td>Healthcare</td>\n",
       "      <td>EQ</td>\n",
       "      <td>400.50</td>\n",
       "      <td>401.80</td>\n",
       "      <td>394.10</td>\n",
       "      <td>403.85</td>\n",
       "      <td>400.00</td>\n",
       "      <td>-3.85</td>\n",
       "      <td>-0.95</td>\n",
       "      <td>31782</td>\n",
       "      <td>1.262731e+07</td>\n",
       "      <td>749.75</td>\n",
       "      <td>378.00</td>\n",
       "      <td>-42.92</td>\n",
       "      <td>-5.1</td>\n",
       "    </tr>\n",
       "    <tr>\n",
       "      <th>2</th>\n",
       "      <td>Aavas Financiers Ltd.</td>\n",
       "      <td>AAVAS</td>\n",
       "      <td>Financial Services</td>\n",
       "      <td>EQ</td>\n",
       "      <td>1997.10</td>\n",
       "      <td>2004.05</td>\n",
       "      <td>1894.50</td>\n",
       "      <td>2015.45</td>\n",
       "      <td>1943.15</td>\n",
       "      <td>-72.3</td>\n",
       "      <td>-3.59</td>\n",
       "      <td>150704</td>\n",
       "      <td>2.907728e+08</td>\n",
       "      <td>3340.00</td>\n",
       "      <td>1815.00</td>\n",
       "      <td>-25.69</td>\n",
       "      <td>-9.39</td>\n",
       "    </tr>\n",
       "    <tr>\n",
       "      <th>3</th>\n",
       "      <td>ABB India Ltd.</td>\n",
       "      <td>ABB</td>\n",
       "      <td>Capital Goods</td>\n",
       "      <td>EQ</td>\n",
       "      <td>2260.35</td>\n",
       "      <td>2311.50</td>\n",
       "      <td>2260.35</td>\n",
       "      <td>2300.90</td>\n",
       "      <td>2280.00</td>\n",
       "      <td>-20.9</td>\n",
       "      <td>-0.91</td>\n",
       "      <td>97053</td>\n",
       "      <td>2.210935e+08</td>\n",
       "      <td>2487.85</td>\n",
       "      <td>1618.05</td>\n",
       "      <td>27.25</td>\n",
       "      <td>-5.21</td>\n",
       "    </tr>\n",
       "    <tr>\n",
       "      <th>4</th>\n",
       "      <td>Abbott India Ltd.</td>\n",
       "      <td>ABBOTINDIA</td>\n",
       "      <td>Healthcare</td>\n",
       "      <td>EQ</td>\n",
       "      <td>18700.40</td>\n",
       "      <td>19200.00</td>\n",
       "      <td>18605.00</td>\n",
       "      <td>18760.40</td>\n",
       "      <td>19199.80</td>\n",
       "      <td>439.4</td>\n",
       "      <td>2.34</td>\n",
       "      <td>12396</td>\n",
       "      <td>2.346770e+08</td>\n",
       "      <td>23934.45</td>\n",
       "      <td>15514.00</td>\n",
       "      <td>11.61</td>\n",
       "      <td>5.84</td>\n",
       "    </tr>\n",
       "  </tbody>\n",
       "</table>\n",
       "</div>"
      ],
      "text/plain": [
       "            Company Name      Symbol            Industry Series      Open  \\\n",
       "0          3M India Ltd.     3MINDIA         Diversified     EQ  21950.00   \n",
       "1       Aarti Drugs Ltd.  AARTIDRUGS          Healthcare     EQ    400.50   \n",
       "2  Aavas Financiers Ltd.       AAVAS  Financial Services     EQ   1997.10   \n",
       "3         ABB India Ltd.         ABB       Capital Goods     EQ   2260.35   \n",
       "4      Abbott India Ltd.  ABBOTINDIA          Healthcare     EQ  18700.40   \n",
       "\n",
       "       High       Low  Previous Close  Last Traded Price   Change  \\\n",
       "0  21999.00  21126.05        21854.05           21575.00  -279.05   \n",
       "1    401.80    394.10          403.85             400.00    -3.85   \n",
       "2   2004.05   1894.50         2015.45            1943.15    -72.3   \n",
       "3   2311.50   2260.35         2300.90            2280.00    -20.9   \n",
       "4  19200.00  18605.00        18760.40           19199.80    439.4   \n",
       "\n",
       "   Percentage Change  Share Volume  Value (Indian Rupee)  52 Week High  \\\n",
       "0              -1.28          4159          8.965357e+07      27800.00   \n",
       "1              -0.95         31782          1.262731e+07        749.75   \n",
       "2              -3.59        150704          2.907728e+08       3340.00   \n",
       "3              -0.91         97053          2.210935e+08       2487.85   \n",
       "4               2.34         12396          2.346770e+08      23934.45   \n",
       "\n",
       "   52 Week Low 365 Day Percentage Change 30 Day Percentage Change  \n",
       "0     17273.00                    -10.18                     8.22  \n",
       "1       378.00                    -42.92                     -5.1  \n",
       "2      1815.00                    -25.69                    -9.39  \n",
       "3      1618.05                     27.25                    -5.21  \n",
       "4     15514.00                     11.61                     5.84  "
      ]
     },
     "execution_count": 77,
     "metadata": {},
     "output_type": "execute_result"
    }
   ],
   "source": [
    "df.head()"
   ]
  },
  {
   "cell_type": "code",
   "execution_count": 78,
   "id": "0990c990",
   "metadata": {},
   "outputs": [
    {
     "name": "stdout",
     "output_type": "stream",
     "text": [
      "<class 'pandas.core.frame.DataFrame'>\n",
      "RangeIndex: 501 entries, 0 to 500\n",
      "Data columns (total 17 columns):\n",
      " #   Column                     Non-Null Count  Dtype  \n",
      "---  ------                     --------------  -----  \n",
      " 0   Company Name               501 non-null    object \n",
      " 1   Symbol                     501 non-null    object \n",
      " 2   Industry                   501 non-null    object \n",
      " 3   Series                     501 non-null    object \n",
      " 4   Open                       501 non-null    float64\n",
      " 5   High                       501 non-null    float64\n",
      " 6   Low                        501 non-null    float64\n",
      " 7   Previous Close             501 non-null    float64\n",
      " 8   Last Traded Price          501 non-null    float64\n",
      " 9   Change                     501 non-null    object \n",
      " 10  Percentage Change          501 non-null    float64\n",
      " 11  Share Volume               501 non-null    int64  \n",
      " 12  Value (Indian Rupee)       501 non-null    float64\n",
      " 13  52 Week High               501 non-null    float64\n",
      " 14  52 Week Low                501 non-null    float64\n",
      " 15  365 Day Percentage Change  501 non-null    object \n",
      " 16  30 Day Percentage Change   501 non-null    object \n",
      "dtypes: float64(9), int64(1), object(7)\n",
      "memory usage: 66.7+ KB\n"
     ]
    }
   ],
   "source": [
    "df.info()"
   ]
  },
  {
   "cell_type": "code",
   "execution_count": 79,
   "id": "57441f24",
   "metadata": {},
   "outputs": [
    {
     "data": {
      "text/html": [
       "<div>\n",
       "<style scoped>\n",
       "    .dataframe tbody tr th:only-of-type {\n",
       "        vertical-align: middle;\n",
       "    }\n",
       "\n",
       "    .dataframe tbody tr th {\n",
       "        vertical-align: top;\n",
       "    }\n",
       "\n",
       "    .dataframe thead th {\n",
       "        text-align: right;\n",
       "    }\n",
       "</style>\n",
       "<table border=\"1\" class=\"dataframe\">\n",
       "  <thead>\n",
       "    <tr style=\"text-align: right;\">\n",
       "      <th></th>\n",
       "      <th>Open</th>\n",
       "      <th>High</th>\n",
       "      <th>Low</th>\n",
       "      <th>Previous Close</th>\n",
       "      <th>Last Traded Price</th>\n",
       "      <th>Percentage Change</th>\n",
       "      <th>Share Volume</th>\n",
       "      <th>Value (Indian Rupee)</th>\n",
       "      <th>52 Week High</th>\n",
       "      <th>52 Week Low</th>\n",
       "    </tr>\n",
       "  </thead>\n",
       "  <tbody>\n",
       "    <tr>\n",
       "      <th>count</th>\n",
       "      <td>501.000000</td>\n",
       "      <td>501.000000</td>\n",
       "      <td>501.000000</td>\n",
       "      <td>501.000000</td>\n",
       "      <td>501.000000</td>\n",
       "      <td>501.000000</td>\n",
       "      <td>5.010000e+02</td>\n",
       "      <td>5.010000e+02</td>\n",
       "      <td>501.000000</td>\n",
       "      <td>501.000000</td>\n",
       "    </tr>\n",
       "    <tr>\n",
       "      <th>mean</th>\n",
       "      <td>1525.904491</td>\n",
       "      <td>1553.804990</td>\n",
       "      <td>1504.042415</td>\n",
       "      <td>1528.061277</td>\n",
       "      <td>1536.925449</td>\n",
       "      <td>0.384850</td>\n",
       "      <td>2.580350e+06</td>\n",
       "      <td>8.635146e+08</td>\n",
       "      <td>2182.632196</td>\n",
       "      <td>1281.628982</td>\n",
       "    </tr>\n",
       "    <tr>\n",
       "      <th>std</th>\n",
       "      <td>4466.627117</td>\n",
       "      <td>4576.377692</td>\n",
       "      <td>4435.492332</td>\n",
       "      <td>4477.209376</td>\n",
       "      <td>4532.004734</td>\n",
       "      <td>2.139495</td>\n",
       "      <td>9.407021e+06</td>\n",
       "      <td>4.335973e+09</td>\n",
       "      <td>5728.930152</td>\n",
       "      <td>3850.529646</td>\n",
       "    </tr>\n",
       "    <tr>\n",
       "      <th>min</th>\n",
       "      <td>6.750000</td>\n",
       "      <td>6.950000</td>\n",
       "      <td>6.700000</td>\n",
       "      <td>6.850000</td>\n",
       "      <td>6.800000</td>\n",
       "      <td>-14.830000</td>\n",
       "      <td>1.507000e+03</td>\n",
       "      <td>2.587223e+06</td>\n",
       "      <td>13.100000</td>\n",
       "      <td>4.550000</td>\n",
       "    </tr>\n",
       "    <tr>\n",
       "      <th>25%</th>\n",
       "      <td>215.300000</td>\n",
       "      <td>221.550000</td>\n",
       "      <td>210.600000</td>\n",
       "      <td>217.200000</td>\n",
       "      <td>214.650000</td>\n",
       "      <td>-0.790000</td>\n",
       "      <td>7.740500e+04</td>\n",
       "      <td>4.502265e+07</td>\n",
       "      <td>328.700000</td>\n",
       "      <td>166.800000</td>\n",
       "    </tr>\n",
       "    <tr>\n",
       "      <th>50%</th>\n",
       "      <td>551.100000</td>\n",
       "      <td>569.100000</td>\n",
       "      <td>547.000000</td>\n",
       "      <td>554.750000</td>\n",
       "      <td>563.000000</td>\n",
       "      <td>0.450000</td>\n",
       "      <td>3.296100e+05</td>\n",
       "      <td>1.533133e+08</td>\n",
       "      <td>818.000000</td>\n",
       "      <td>438.050000</td>\n",
       "    </tr>\n",
       "    <tr>\n",
       "      <th>75%</th>\n",
       "      <td>1404.500000</td>\n",
       "      <td>1421.250000</td>\n",
       "      <td>1396.850000</td>\n",
       "      <td>1411.700000</td>\n",
       "      <td>1410.000000</td>\n",
       "      <td>1.720000</td>\n",
       "      <td>1.235612e+06</td>\n",
       "      <td>6.644570e+08</td>\n",
       "      <td>2096.750000</td>\n",
       "      <td>1128.800000</td>\n",
       "    </tr>\n",
       "    <tr>\n",
       "      <th>max</th>\n",
       "      <td>70300.000000</td>\n",
       "      <td>72500.000000</td>\n",
       "      <td>70300.000000</td>\n",
       "      <td>70800.900000</td>\n",
       "      <td>71900.000000</td>\n",
       "      <td>6.500000</td>\n",
       "      <td>1.257883e+08</td>\n",
       "      <td>9.211987e+10</td>\n",
       "      <td>87550.000000</td>\n",
       "      <td>63000.000000</td>\n",
       "    </tr>\n",
       "  </tbody>\n",
       "</table>\n",
       "</div>"
      ],
      "text/plain": [
       "               Open          High           Low  Previous Close  \\\n",
       "count    501.000000    501.000000    501.000000      501.000000   \n",
       "mean    1525.904491   1553.804990   1504.042415     1528.061277   \n",
       "std     4466.627117   4576.377692   4435.492332     4477.209376   \n",
       "min        6.750000      6.950000      6.700000        6.850000   \n",
       "25%      215.300000    221.550000    210.600000      217.200000   \n",
       "50%      551.100000    569.100000    547.000000      554.750000   \n",
       "75%     1404.500000   1421.250000   1396.850000     1411.700000   \n",
       "max    70300.000000  72500.000000  70300.000000    70800.900000   \n",
       "\n",
       "       Last Traded Price  Percentage Change  Share Volume  \\\n",
       "count         501.000000         501.000000  5.010000e+02   \n",
       "mean         1536.925449           0.384850  2.580350e+06   \n",
       "std          4532.004734           2.139495  9.407021e+06   \n",
       "min             6.800000         -14.830000  1.507000e+03   \n",
       "25%           214.650000          -0.790000  7.740500e+04   \n",
       "50%           563.000000           0.450000  3.296100e+05   \n",
       "75%          1410.000000           1.720000  1.235612e+06   \n",
       "max         71900.000000           6.500000  1.257883e+08   \n",
       "\n",
       "       Value (Indian Rupee)  52 Week High   52 Week Low  \n",
       "count          5.010000e+02    501.000000    501.000000  \n",
       "mean           8.635146e+08   2182.632196   1281.628982  \n",
       "std            4.335973e+09   5728.930152   3850.529646  \n",
       "min            2.587223e+06     13.100000      4.550000  \n",
       "25%            4.502265e+07    328.700000    166.800000  \n",
       "50%            1.533133e+08    818.000000    438.050000  \n",
       "75%            6.644570e+08   2096.750000   1128.800000  \n",
       "max            9.211987e+10  87550.000000  63000.000000  "
      ]
     },
     "execution_count": 79,
     "metadata": {},
     "output_type": "execute_result"
    }
   ],
   "source": [
    "df.describe()"
   ]
  },
  {
   "cell_type": "code",
   "execution_count": 80,
   "id": "e54c2249",
   "metadata": {},
   "outputs": [
    {
     "data": {
      "text/plain": [
       "<AxesSubplot:>"
      ]
     },
     "execution_count": 80,
     "metadata": {},
     "output_type": "execute_result"
    },
    {
     "data": {
      "image/png": "[encoded data removed]",
      "text/plain": [
       "<Figure size 864x432 with 2 Axes>"
      ]
     },
     "metadata": {
      "needs_background": "light"
     },
     "output_type": "display_data"
    }
   ],
   "source": [
    "plt.figure(figsize=(12,6))\n",
    "sns.heatmap(df.isnull(),cmap='viridis')"
   ]
  },
  {
   "cell_type": "code",
   "execution_count": 81,
   "id": "abe2103f",
   "metadata": {},
   "outputs": [
    {
     "data": {
      "text/plain": [
       "(501, 17)"
      ]
     },
     "execution_count": 81,
     "metadata": {},
     "output_type": "execute_result"
    }
   ],
   "source": [
    "df.shape"
   ]
  },
  {
   "cell_type": "code",
   "execution_count": 82,
   "id": "13850057",
   "metadata": {},
   "outputs": [],
   "source": [
    "df=df.drop_duplicates()"
   ]
  },
  {
   "cell_type": "markdown",
   "id": "ec8daee7",
   "metadata": {},
   "source": [
    "# HANDLING CATEGORICAL COLUMNS"
   ]
  },
  {
   "cell_type": "code",
   "execution_count": 83,
   "id": "7eb94e1d",
   "metadata": {
    "scrolled": true
   },
   "outputs": [
    {
     "data": {
      "text/plain": [
       "Index(['Company Name', 'Symbol', 'Industry', 'Series', 'Change',\n",
       "       '365 Day Percentage Change', '30 Day Percentage Change'],\n",
       "      dtype='object')"
      ]
     },
     "execution_count": 83,
     "metadata": {},
     "output_type": "execute_result"
    }
   ],
   "source": [
    "df.select_dtypes(['object']).columns"
   ]
  },
  {
   "cell_type": "code",
   "execution_count": 84,
   "id": "be1e98c2",
   "metadata": {},
   "outputs": [
    {
     "data": {
      "text/plain": [
       "0.1      7\n",
       "-0.05    5\n",
       "0.05     5\n",
       "0.15     5\n",
       "0.45     4\n",
       "        ..\n",
       "5.95     1\n",
       "43.05    1\n",
       "-7.85    1\n",
       "25.4     1\n",
       "2.15     1\n",
       "Name: Change, Length: 372, dtype: int64"
      ]
     },
     "execution_count": 84,
     "metadata": {},
     "output_type": "execute_result"
    }
   ],
   "source": [
    "df['Change'].value_counts()"
   ]
  },
  {
   "cell_type": "code",
   "execution_count": 85,
   "id": "8f1ea7e2",
   "metadata": {},
   "outputs": [],
   "source": [
    "df['Change']=df['Change'].apply(lambda x:x.replace(',',\"\") )"
   ]
  },
  {
   "cell_type": "code",
   "execution_count": 86,
   "id": "80b0ed02",
   "metadata": {},
   "outputs": [],
   "source": [
    "df['Change']=df['Change'].astype('float64')"
   ]
  },
  {
   "cell_type": "code",
   "execution_count": 87,
   "id": "7d6f99b5",
   "metadata": {},
   "outputs": [
    {
     "data": {
      "text/plain": [
       "-         44\n",
       "3.56       3\n",
       "-23.75     3\n",
       "-33.08     3\n",
       "-8.98      3\n",
       "          ..\n",
       "-20.06     1\n",
       "7.91       1\n",
       "51.59      1\n",
       "7.23       1\n",
       "-22.08     1\n",
       "Name: 365 Day Percentage Change, Length: 441, dtype: int64"
      ]
     },
     "execution_count": 87,
     "metadata": {},
     "output_type": "execute_result"
    }
   ],
   "source": [
    "df['365 Day Percentage Change'].value_counts()"
   ]
  },
  {
   "cell_type": "code",
   "execution_count": 88,
   "id": "3ac9f2f1",
   "metadata": {},
   "outputs": [],
   "source": [
    "df['365 Day Percentage Change']=df['365 Day Percentage Change'].apply(lambda x:float(x.replace('-','0')))"
   ]
  },
  {
   "cell_type": "code",
   "execution_count": 89,
   "id": "65fb938f",
   "metadata": {},
   "outputs": [
    {
     "data": {
      "text/plain": [
       "dtype('float64')"
      ]
     },
     "execution_count": 89,
     "metadata": {},
     "output_type": "execute_result"
    }
   ],
   "source": [
    "df['365 Day Percentage Change'].dtype"
   ]
  },
  {
   "cell_type": "code",
   "execution_count": 90,
   "id": "bb06206e",
   "metadata": {},
   "outputs": [],
   "source": [
    "df['30 Day Percentage Change']=df['30 Day Percentage Change'].apply(lambda x:float(x.replace('-','0')))"
   ]
  },
  {
   "cell_type": "code",
   "execution_count": 91,
   "id": "9f974288",
   "metadata": {},
   "outputs": [
    {
     "data": {
      "text/plain": [
       "dtype('float64')"
      ]
     },
     "execution_count": 91,
     "metadata": {},
     "output_type": "execute_result"
    }
   ],
   "source": [
    "df['30 Day Percentage Change'].dtype"
   ]
  },
  {
   "cell_type": "code",
   "execution_count": 92,
   "id": "265254e0",
   "metadata": {},
   "outputs": [],
   "source": [
    "df=df.drop('Symbol',axis=1)"
   ]
  },
  {
   "cell_type": "code",
   "execution_count": 93,
   "id": "ef8cdec7",
   "metadata": {},
   "outputs": [
    {
     "data": {
      "text/plain": [
       "(501, 16)"
      ]
     },
     "execution_count": 93,
     "metadata": {},
     "output_type": "execute_result"
    }
   ],
   "source": [
    "df.shape"
   ]
  },
  {
   "cell_type": "code",
   "execution_count": 94,
   "id": "73321906",
   "metadata": {},
   "outputs": [],
   "source": [
    "df=pd.get_dummies(df,drop_first=True)"
   ]
  },
  {
   "cell_type": "code",
   "execution_count": 95,
   "id": "494fe299",
   "metadata": {},
   "outputs": [
    {
     "data": {
      "text/plain": [
       "(501, 534)"
      ]
     },
     "execution_count": 95,
     "metadata": {},
     "output_type": "execute_result"
    }
   ],
   "source": [
    "df.shape"
   ]
  },
  {
   "cell_type": "markdown",
   "id": "564ba70e",
   "metadata": {},
   "source": [
    "# HANDLING NUMERICAL COLUMNS"
   ]
  },
  {
   "cell_type": "code",
   "execution_count": 96,
   "id": "4d58668c",
   "metadata": {},
   "outputs": [
    {
     "data": {
      "text/plain": [
       "Index(['Open', 'High', 'Low', 'Previous Close', 'Last Traded Price', 'Change',\n",
       "       'Percentage Change', 'Share Volume', 'Value (Indian Rupee)',\n",
       "       '52 Week High',\n",
       "       ...\n",
       "       'Industry_Information Technology',\n",
       "       'Industry_Media Entertainment & Publication',\n",
       "       'Industry_Metals & Mining', 'Industry_Oil Gas & Consumable Fuels',\n",
       "       'Industry_Power', 'Industry_Realty', 'Industry_Services',\n",
       "       'Industry_Telecommunication', 'Industry_Textiles', 'Series_EQ'],\n",
       "      dtype='object', length=534)"
      ]
     },
     "execution_count": 96,
     "metadata": {},
     "output_type": "execute_result"
    }
   ],
   "source": [
    "col_list=['Open','High','Low','Previous Close','Last Traded Price','Change','Percentage Change','']"
   ]
  },
  {
   "cell_type": "code",
   "execution_count": null,
   "id": "343552e0",
   "metadata": {},
   "outputs": [],
   "source": []
  }
 ],
 "metadata": {
  "kernelspec": {
   "display_name": "Python 3 (ipykernel)",
   "language": "python",
   "name": "python3"
  },
  "language_info": {
   "codemirror_mode": {
    "name": "ipython",
    "version": 3
   },
   "file_extension": ".py",
   "mimetype": "text/x-python",
   "name": "python",
   "nbconvert_exporter": "python",
   "pygments_lexer": "ipython3",
   "version": "3.9.12"
  }
 },
 "nbformat": 4,
 "nbformat_minor": 5
}
